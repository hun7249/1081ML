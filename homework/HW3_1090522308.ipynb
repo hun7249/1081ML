{
 "cells": [
  {
   "cell_type": "markdown",
   "metadata": {},
   "source": [
    "# Homework3"
   ]
  },
  {
   "cell_type": "code",
   "execution_count": null,
   "metadata": {},
   "outputs": [],
   "source": [
    "1. 身體質量指數(Body mass index, BMI)是由體重(公斤)除以身高(公尺)的平方，BMI 的分級如下。請撰寫程式由使用者輸入其體重(公斤)及身高(公分)，然後程式印出分級。(分級方式請參閱簡報)"
   ]
  },
  {
   "cell_type": "code",
   "execution_count": 1,
   "metadata": {},
   "outputs": [
    {
     "name": "stdout",
     "output_type": "stream",
     "text": [
      "請輸入體重(公斤): 90\n",
      "請輸入身高(公分): 190\n",
      "BMI is 24.93\n",
      "過重\n"
     ]
    }
   ],
   "source": [
    "weight = eval(input(\"請輸入體重(公斤): \"))\n",
    "height = eval(input(\"請輸入身高(公分): \"))\n",
    "BMI = float(weight)/float((height/100)**2)\n",
    "print(\"BMI is\", format(BMI, \".2f\"))\n",
    "if BMI < 18.5:\n",
    "    print(\"體重不足\")\n",
    "elif BMI < 24:\n",
    "    print(\"正常\")\n",
    "elif BMI < 30:\n",
    "    print(\"過重\")\n",
    "else:\n",
    "    print(\"肥胖\")    "
   ]
  },
  {
   "cell_type": "markdown",
   "metadata": {},
   "source": [
    "2. 閏年(Leap year)比平年(365 天)多一天，亦即 366 天。判斷閏年的方式如下(任一條件符合均可)：能被 4 整除但不能被 100 整除者/能被 400 整除者。請撰寫一程式，由使用者輸入西元年，程式判斷是否為閏年。"
   ]
  },
  {
   "cell_type": "code",
   "execution_count": 19,
   "metadata": {},
   "outputs": [
    {
     "name": "stdout",
     "output_type": "stream",
     "text": [
      "請輸入西元年：2019\n",
      "2019 年為: 平年\n"
     ]
    }
   ],
   "source": [
    "Year = input(\"請輸入西元年：\")\n",
    "if ( int(Year) % 400 == 0) :\n",
    "        print(Year,\"年為: 閏年\")\n",
    "elif( int(Year) % 100 == 0) :\n",
    "        print(Year,\"年為: 平年\")\n",
    "elif ( int(Year) % 4 == 0) :\n",
    "        print(Year,\"年為: 閏年\")\n",
    "else :\n",
    "        print(Year,\"年為: 平年\")"
   ]
  },
  {
   "cell_type": "markdown",
   "metadata": {},
   "source": [
    "3. 請撰寫一個程式，接受使用者輸入日期，格式為 mm/dd/yyyy (month, day, year)，程式判斷該日期是否正確。例如：09/31/2011 錯誤，因為 9 月只有 30 天；02/29/2011 錯誤，因為 2011 並非閏年。"
   ]
  },
  {
   "cell_type": "code",
   "execution_count": 5,
   "metadata": {},
   "outputs": [
    {
     "name": "stdout",
     "output_type": "stream",
     "text": [
      "請輸入西元年：2019\n",
      "請輸入月份：13\n",
      "請輸入日期：20\n",
      "13 / 20 / 2019 錯誤\n"
     ]
    }
   ],
   "source": [
    "Year = input(\"請輸入西元年：\")\n",
    "month = input(\"請輸入月份：\")\n",
    "day = input(\"請輸入日期：\")\n",
    "if ( int(Year) % 400 == 0) or ( int(Year) % 4 == 0):\n",
    "    x = 1\n",
    "elif( int(Year) % 100 == 0) :\n",
    "    x = 0\n",
    "else :\n",
    "    x = 0\n",
    "if (int(month)>12):\n",
    "    print(month,\"/\",day,\"/\",Year,\"錯誤\")\n",
    "elif (int(month) == 1,3,5,7,8,10,12) and (int(day)>30):\n",
    "    print(month,\"/\",day,\"/\",Year,\"錯誤\")\n",
    "elif (int(month) == 4,6,9,11) and (int(day)>31):\n",
    "    print(month,\"/\",day,\"/\",Year,\"錯誤\")\n",
    "elif (int(month)==2) and (x==1) and (int(day)>29):\n",
    "    print(month,\"/\",day,\"/\",Year,\"錯誤\")\n",
    "elif (int(month)==2) and (x==0) and (int(day)>28):\n",
    "    print(month,\"/\",day,\"/\",Year,\"錯誤\")\n",
    "else:\n",
    "    print(\"日期為:\",month,\"/\",day,\"/\",Year)"
   ]
  },
  {
   "cell_type": "code",
   "execution_count": null,
   "metadata": {},
   "outputs": [],
   "source": [
    "4. 如果任何大於 2 的正整數 n 為質數，則任何整數 m，2 ≤ m ≤ √𝑛 ，都無法整除 n。請撰寫一程式，由使用者輸入 n，程式判斷其是否為質數。"
   ]
  },
  {
   "cell_type": "code",
   "execution_count": 10,
   "metadata": {},
   "outputs": [
    {
     "name": "stdout",
     "output_type": "stream",
     "text": [
      "請輸出一整數: 100\n",
      "100 不是質數\n"
     ]
    }
   ],
   "source": [
    "num = int(input(\"請輸出一整數: \"))\n",
    "if num > 1:\n",
    "   for i in range(2,num):\n",
    "       if (num % i) == 0:\n",
    "           print(num,\"不是質數\")\n",
    "           break\n",
    "   else:\n",
    "       print(num,\"是質數\")       \n",
    "else:\n",
    "   print(num,\"不是質數\")"
   ]
  },
  {
   "cell_type": "markdown",
   "metadata": {},
   "source": [
    "5. 修改上述程式，列出所有小於或等於 n 的質數。"
   ]
  },
  {
   "cell_type": "code",
   "execution_count": 17,
   "metadata": {},
   "outputs": [
    {
     "name": "stdout",
     "output_type": "stream",
     "text": [
      "請輸出一整數: 100\n",
      "[2, 3, 5, 7, 11, 13, 17, 19, 23, 29, 31, 37, 41, 43, 47, 53, 59, 61, 67, 71, 73, 79, 83, 89, 97]\n"
     ]
    }
   ],
   "source": [
    "num =[];\n",
    "NumMax = int(input(\"請輸出一整數: \"))\n",
    "if NumMax > 1:\n",
    "   i=2 \n",
    "   for i in range(2,NumMax):\n",
    "        j=2 \n",
    "        for j in range(2,i):\n",
    "          if(i%j==0):\n",
    "            break\n",
    "        else:\n",
    "          num.append(i)      \n",
    "   print(num)"
   ]
  },
  {
   "cell_type": "code",
   "execution_count": null,
   "metadata": {},
   "outputs": [],
   "source": []
  }
 ],
 "metadata": {
  "kernelspec": {
   "display_name": "Python 3",
   "language": "python",
   "name": "python3"
  },
  "language_info": {
   "codemirror_mode": {
    "name": "ipython",
    "version": 3
   },
   "file_extension": ".py",
   "mimetype": "text/x-python",
   "name": "python",
   "nbconvert_exporter": "python",
   "pygments_lexer": "ipython3",
   "version": "3.7.1"
  }
 },
 "nbformat": 4,
 "nbformat_minor": 2
}
