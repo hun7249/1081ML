{
 "cells": [
  {
   "cell_type": "markdown",
   "metadata": {},
   "source": [
    "# Homework4"
   ]
  },
  {
   "cell_type": "markdown",
   "metadata": {},
   "source": [
    "1. 寫一個程式能大致畫一個人臉!"
   ]
  },
  {
   "cell_type": "code",
   "execution_count": 39,
   "metadata": {},
   "outputs": [],
   "source": [
    "import graphics\n",
    "from graphics import *\n",
    "from graphics import GraphWin\n",
    "win=graphics.GraphWin()\n",
    "center = Point(100,100)\n",
    "circ = Circle(center, 40)\n",
    "circ.setFill('red')\n",
    "circ.draw(win)\n",
    "center2 = Point(85,85)\n",
    "circ2 = Circle(center2, 10)\n",
    "circ2.setFill('blue')\n",
    "circ2.draw(win)\n",
    "center3 = Point(115,85)\n",
    "circ3 = Circle(center3, 10)\n",
    "circ3.setFill('blue')\n",
    "circ3.draw(win)\n",
    "center4 = Point(100,125)\n",
    "circ4 = Circle(center4, 5)\n",
    "circ4.setFill('blue')\n",
    "circ4.draw(win)\n",
    "win.getMouse()\n",
    "win.close()"
   ]
  },
  {
   "cell_type": "markdown",
   "metadata": {},
   "source": [
    "2. 寫一程式，讓使用者在視窗中利用滑鼠左鍵點擊 2 點，依照該 2 個對角點繪製長方形，並在視窗中顯示該長方形的邊界長及面積。"
   ]
  },
  {
   "cell_type": "code",
   "execution_count": 4,
   "metadata": {},
   "outputs": [],
   "source": [
    "from graphics import *\n",
    "def rectangle():\n",
    "    win = GraphWin(\"Draw a rectangle\")\n",
    "    win.setCoords(0.0, 0.0, 10.0, 10.0)\n",
    "    message = Text(Point(5, 0.5),\"Click on two points\")\n",
    "    message.draw(win)\n",
    "    p1 = win.getMouse()\n",
    "    p1.draw(win)\n",
    "    p2 = win.getMouse()\n",
    "    p2.draw(win)\n",
    "    p3 = Point(p2.getX(), p1.getY())\n",
    "    p4 = Point(p1.getX(), p2.getY())\n",
    "    rectangle = Polygon(p1, p3, p2, p4)\n",
    "    rectangle.setFill(\"blue\")\n",
    "    rectangle.setOutline(\"cyan\")\n",
    "    rectangle.draw(win)\n",
    "    X = p2.getX()-p1.getX()\n",
    "    Y = p1.getY()-p2.getY()\n",
    "    boundary = (\"x:\" +'%.2f' % X,\"y:\" +'%.2f' % Y )\n",
    "    area = '%.2f' % (float(X) * float(Y))\n",
    "    message.setText(boundary)\n",
    "    message2 = Text(Point(5, 1.5),\"area:\"+area)\n",
    "    message2.draw(win)\n",
    "    win.getMouse()\n",
    "    win.close()\n",
    "rectangle()"
   ]
  },
  {
   "cell_type": "markdown",
   "metadata": {},
   "source": [
    "3. 寫一程式，讓使用者在視窗中利用滑鼠左鍵點擊 3 點，依照該 3 點繪製三角形，並在視窗中顯示該三角形的邊界長及面積。"
   ]
  },
  {
   "cell_type": "code",
   "execution_count": 6,
   "metadata": {},
   "outputs": [],
   "source": [
    "from graphics import *\n",
    "def triangle():\n",
    "    win = GraphWin(\"Draw a Triangle\")\n",
    "    win.setCoords(0.0, 0.0, 10.0, 10.0)\n",
    "    message = Text(Point(5, 0.5),\"Click on three points\")\n",
    "    message.draw(win)\n",
    "    p1 = win.getMouse()\n",
    "    p1.draw(win)\n",
    "    p2 = win.getMouse()\n",
    "    p2.draw(win)\n",
    "    p3 = win.getMouse()\n",
    "    p3.draw(win)\n",
    "    triangle = Polygon(p1, p2, p3)\n",
    "    triangle.setFill(\"blue\")\n",
    "    triangle.setOutline(\"cyan\")\n",
    "    triangle.draw(win)\n",
    "    x1 = float('%.2f' % p1.getX())\n",
    "    y1 = float('%.2f' % p1.getY())\n",
    "    x2 = float('%.2f' % p2.getX())\n",
    "    y2 = float('%.2f' % p2.getY())\n",
    "    x3 = float('%.2f' % p3.getX())\n",
    "    y3 = float('%.2f' % p3.getY())\n",
    "    a = ((x1-x2)**2 + (y1-y2)**2)**0.5\n",
    "    b = ((x1-x3)**2 + (y1-y3)**2)**0.5\n",
    "    c = ((x2-x3)**2 + (y2-y3)**2)**0.5\n",
    "    area = '%.2f' % ((a + b + c)/2)\n",
    "    message.setText(\"area:\"+area)\n",
    "    boundary = (\"a:\"+str('%.2f' %a)+\" , \"+\"b:\"+str('%.2f' %b)+\" , \"+\"c:\"+str('%.2f' %c))\n",
    "    message2 = Text(Point(5, 1.5), boundary)\n",
    "    message2.draw(win)\n",
    "    win.getMouse()\n",
    "    win.close()\n",
    "triangle()"
   ]
  },
  {
   "cell_type": "markdown",
   "metadata": {},
   "source": [
    "4. 撰寫以下 2 個函式的定義：\n",
    "\n",
    "sumN(n)：回覆前 n 個自然數的總和\n",
    "\n",
    "sumNCubes(n)：回覆前 n 個自然數的 3 次方總和"
   ]
  },
  {
   "cell_type": "code",
   "execution_count": 27,
   "metadata": {},
   "outputs": [
    {
     "name": "stdout",
     "output_type": "stream",
     "text": [
      "請輸n3\n",
      "6\n",
      "36\n"
     ]
    }
   ],
   "source": [
    "def sumN(n):\n",
    "    sum = int(((1+n)*(n))/2)\n",
    "    return sum\n",
    "\n",
    "def sumNCubes(n):\n",
    "    sum = 0\n",
    "    for i in range(1, n+1):\n",
    "        sum += i**3\n",
    "    return sum\n",
    "n = eval(input(\"請輸n\"))\n",
    "print (sumN(n))\n",
    "print (sumNCubes(n))"
   ]
  },
  {
   "cell_type": "markdown",
   "metadata": {},
   "source": [
    "5. 撰寫一函式，功能如下：\n",
    "toNumbers(strList)：strList 是一個字串的串列，內含數值字串，例如:[\"32\", \"21\", \"56\"]，將串列中的每個項目改為數值!"
   ]
  },
  {
   "cell_type": "code",
   "execution_count": 34,
   "metadata": {},
   "outputs": [
    {
     "name": "stdout",
     "output_type": "stream",
     "text": [
      "[32, 21, 56]\n"
     ]
    }
   ],
   "source": [
    "\n",
    "def toNumbers(strList):\n",
    "    strList = [\"32\",\"21\",\"56\"]\n",
    "    NumList = [int(strList[0]),int(strList[1]),int(strList[2])]\n",
    "    return NumList\n",
    "\n",
    "print(toNumbers(strList))    "
   ]
  },
  {
   "cell_type": "markdown",
   "metadata": {},
   "source": [
    "6. 撰寫一函式，功能如下：\n",
    "drawFace(center, size, win)：center 是一個點(Point)，size 是一個整數，win 是一個 GraphWin，在給定 size 後在 win 裡畫一張臉。你的函式可以畫一張簡單的笑(哭)臉，寫一個主程式能夠使用不同的參數來多次呼叫 drawFace()，以畫出許多笑臉。"
   ]
  },
  {
   "cell_type": "code",
   "execution_count": 56,
   "metadata": {},
   "outputs": [
    {
     "name": "stdout",
     "output_type": "stream",
     "text": [
      "請輸x100\n",
      "請輸y100\n",
      "請輸size400\n"
     ]
    }
   ],
   "source": [
    "import graphics\n",
    "from graphics import *\n",
    "from graphics import GraphWin\n",
    "\n",
    "def setCenter(x,y):\n",
    "    return x,y\n",
    "def drawFace(center, size, win):\n",
    "    win=GraphWin(\"drawFace\",size,size)\n",
    "    x =center.getX()\n",
    "    y =center.getY()\n",
    "    Cor = size/5\n",
    "    circ = Circle(center, 40)\n",
    "    circ.setFill('red')\n",
    "    circ.draw(win)\n",
    "    center2 = Point(x-15,y-15)\n",
    "    circ2 = Circle(center2, 10)\n",
    "    circ2.setFill('blue')\n",
    "    circ2.draw(win)\n",
    "    center3 = Point(x+15,y-15)\n",
    "    circ3 = Circle(center3, 10)\n",
    "    circ3.setFill('blue')\n",
    "    circ3.draw(win)\n",
    "    center4 = Point(x,y+25)\n",
    "    circ4 = Circle(center4, 5)\n",
    "    circ4.setFill('blue')\n",
    "    circ4.draw(win)\n",
    "    win.getMouse()\n",
    "    win.close()\n",
    "x = eval(input(\"請輸x\"))\n",
    "y = eval(input(\"請輸y\"))\n",
    "size = eval(input(\"請輸size\"))\n",
    "center = Point(x,y)\n",
    "drawFace(center, size, win)"
   ]
  }
 ],
 "metadata": {
  "kernelspec": {
   "display_name": "Python 3",
   "language": "python",
   "name": "python3"
  },
  "language_info": {
   "codemirror_mode": {
    "name": "ipython",
    "version": 3
   },
   "file_extension": ".py",
   "mimetype": "text/x-python",
   "name": "python",
   "nbconvert_exporter": "python",
   "pygments_lexer": "ipython3",
   "version": "3.7.1"
  }
 },
 "nbformat": 4,
 "nbformat_minor": 2
}
